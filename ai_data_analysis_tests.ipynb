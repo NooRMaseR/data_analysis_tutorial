{
 "cells": [
  {
   "cell_type": "markdown",
   "id": "778b11e5",
   "metadata": {},
   "source": [
    "# Test 1"
   ]
  },
  {
   "cell_type": "markdown",
   "id": "67d48173",
   "metadata": {},
   "source": [
    "## Requiremnts\n",
    "1- ✅ How many total orders are in the dataset?\n",
    "\n",
    "2- 📍 What is the average Total Cost of all orders?\n",
    "\n",
    "3- 🧮 How many orders were made in each country?\n",
    "\n",
    "4- 💰 Which item has the highest average Unit Price?\n",
    "\n",
    "5- 📆 How many orders were made on each day of the week?\n",
    "\n",
    "## Extra Bonus\n",
    "* 🔍 Find the top 3 salespersons with the highest total sales (Total Cost).\n",
    "\n",
    "* 📈 Create a simple bar chart of Total Cost by Category."
   ]
  },
  {
   "cell_type": "code",
   "execution_count": 1,
   "id": "40bf424e",
   "metadata": {},
   "outputs": [
    {
     "data": {
      "text/plain": [
       "'2.2.3'"
      ]
     },
     "execution_count": 1,
     "metadata": {},
     "output_type": "execute_result"
    }
   ],
   "source": [
    "import pandas as pd\n",
    "pd.__version__"
   ]
  },
  {
   "cell_type": "code",
   "execution_count": null,
   "id": "d03241e0",
   "metadata": {},
   "outputs": [
    {
     "data": {
      "text/html": [
       "<div>\n",
       "<style scoped>\n",
       "    .dataframe tbody tr th:only-of-type {\n",
       "        vertical-align: middle;\n",
       "    }\n",
       "\n",
       "    .dataframe tbody tr th {\n",
       "        vertical-align: top;\n",
       "    }\n",
       "\n",
       "    .dataframe thead th {\n",
       "        text-align: right;\n",
       "    }\n",
       "</style>\n",
       "<table border=\"1\" class=\"dataframe\">\n",
       "  <thead>\n",
       "    <tr style=\"text-align: right;\">\n",
       "      <th></th>\n",
       "      <th>Order Date</th>\n",
       "      <th>Day</th>\n",
       "      <th>Country</th>\n",
       "      <th>City</th>\n",
       "      <th>Full Name</th>\n",
       "      <th>Category</th>\n",
       "      <th>Sub Category</th>\n",
       "      <th>Item</th>\n",
       "      <th>SalesPerson ID</th>\n",
       "      <th>Quantity</th>\n",
       "      <th>Unit Price</th>\n",
       "      <th>Discount</th>\n",
       "      <th>Total Cost</th>\n",
       "      <th>Status</th>\n",
       "    </tr>\n",
       "    <tr>\n",
       "      <th>Order ID</th>\n",
       "      <th></th>\n",
       "      <th></th>\n",
       "      <th></th>\n",
       "      <th></th>\n",
       "      <th></th>\n",
       "      <th></th>\n",
       "      <th></th>\n",
       "      <th></th>\n",
       "      <th></th>\n",
       "      <th></th>\n",
       "      <th></th>\n",
       "      <th></th>\n",
       "      <th></th>\n",
       "      <th></th>\n",
       "    </tr>\n",
       "  </thead>\n",
       "  <tbody>\n",
       "    <tr>\n",
       "      <th>1</th>\n",
       "      <td>2023-01-01</td>\n",
       "      <td>Mon</td>\n",
       "      <td>Syria</td>\n",
       "      <td>homs</td>\n",
       "      <td>Lina Alrrashid</td>\n",
       "      <td>Tablet</td>\n",
       "      <td>Apple iPad</td>\n",
       "      <td>iPad Pro 12.9\"</td>\n",
       "      <td>N498</td>\n",
       "      <td>4</td>\n",
       "      <td>999</td>\n",
       "      <td>38.361599</td>\n",
       "      <td>891.907227</td>\n",
       "      <td>False</td>\n",
       "    </tr>\n",
       "    <tr>\n",
       "      <th>2</th>\n",
       "      <td>2023-01-01</td>\n",
       "      <td>Tue</td>\n",
       "      <td>Saudi Arabia</td>\n",
       "      <td>riyadh</td>\n",
       "      <td>Omar Eurul</td>\n",
       "      <td>Smartphone</td>\n",
       "      <td>Samsung Galaxy</td>\n",
       "      <td>Galaxy S21 Ultra</td>\n",
       "      <td>X918</td>\n",
       "      <td>3</td>\n",
       "      <td>1199</td>\n",
       "      <td>517.968018</td>\n",
       "      <td>302.148010</td>\n",
       "      <td>True</td>\n",
       "    </tr>\n",
       "    <tr>\n",
       "      <th>3</th>\n",
       "      <td>2023-01-01</td>\n",
       "      <td>Tue</td>\n",
       "      <td>Saudi Arabia</td>\n",
       "      <td>riyadh</td>\n",
       "      <td>Iman Iismaeil</td>\n",
       "      <td>Digital Camera</td>\n",
       "      <td>Panasonic Lumix</td>\n",
       "      <td>Panasonic Lumix GH5</td>\n",
       "      <td>I036</td>\n",
       "      <td>4</td>\n",
       "      <td>1299</td>\n",
       "      <td>883.320007</td>\n",
       "      <td>831.359985</td>\n",
       "      <td>True</td>\n",
       "    </tr>\n",
       "    <tr>\n",
       "      <th>4</th>\n",
       "      <td>2023-01-01</td>\n",
       "      <td>Mon</td>\n",
       "      <td>United Arab Emirates</td>\n",
       "      <td>abu dhabi</td>\n",
       "      <td>Ahmad Rihan</td>\n",
       "      <td>Tablet</td>\n",
       "      <td>Samsung Galaxy Tab</td>\n",
       "      <td>Galaxy Tab A8</td>\n",
       "      <td>E804</td>\n",
       "      <td>6</td>\n",
       "      <td>199</td>\n",
       "      <td>33.312599</td>\n",
       "      <td>129.548996</td>\n",
       "      <td>True</td>\n",
       "    </tr>\n",
       "    <tr>\n",
       "      <th>5</th>\n",
       "      <td>2023-01-01</td>\n",
       "      <td>Wed</td>\n",
       "      <td>USA</td>\n",
       "      <td>washington</td>\n",
       "      <td>Sami Altawil</td>\n",
       "      <td>Headphones</td>\n",
       "      <td>Sennheiser HD</td>\n",
       "      <td>Sennheiser HD 450BT</td>\n",
       "      <td>Q149</td>\n",
       "      <td>4</td>\n",
       "      <td>129</td>\n",
       "      <td>11.261700</td>\n",
       "      <td>111.365700</td>\n",
       "      <td>True</td>\n",
       "    </tr>\n",
       "    <tr>\n",
       "      <th>...</th>\n",
       "      <td>...</td>\n",
       "      <td>...</td>\n",
       "      <td>...</td>\n",
       "      <td>...</td>\n",
       "      <td>...</td>\n",
       "      <td>...</td>\n",
       "      <td>...</td>\n",
       "      <td>...</td>\n",
       "      <td>...</td>\n",
       "      <td>...</td>\n",
       "      <td>...</td>\n",
       "      <td>...</td>\n",
       "      <td>...</td>\n",
       "      <td>...</td>\n",
       "    </tr>\n",
       "    <tr>\n",
       "      <th>19996</th>\n",
       "      <td>2023-09-01</td>\n",
       "      <td>Tue</td>\n",
       "      <td>Morocco</td>\n",
       "      <td>casablanca</td>\n",
       "      <td>Ahmad Iad</td>\n",
       "      <td>Gaming Console</td>\n",
       "      <td>Sony PlayStation</td>\n",
       "      <td>PlayStation 4 Pro</td>\n",
       "      <td>M210</td>\n",
       "      <td>4</td>\n",
       "      <td>399</td>\n",
       "      <td>150.941696</td>\n",
       "      <td>178.033798</td>\n",
       "      <td>True</td>\n",
       "    </tr>\n",
       "    <tr>\n",
       "      <th>19997</th>\n",
       "      <td>2023-09-01</td>\n",
       "      <td>Tue</td>\n",
       "      <td>Syria</td>\n",
       "      <td>homs</td>\n",
       "      <td>Ali Kiali</td>\n",
       "      <td>Smartwatch</td>\n",
       "      <td>Fossil Gen</td>\n",
       "      <td>Fossil Gen 6</td>\n",
       "      <td>Z826</td>\n",
       "      <td>3</td>\n",
       "      <td>299</td>\n",
       "      <td>398.268005</td>\n",
       "      <td>215.279999</td>\n",
       "      <td>True</td>\n",
       "    </tr>\n",
       "    <tr>\n",
       "      <th>19998</th>\n",
       "      <td>2023-09-01</td>\n",
       "      <td>Wed</td>\n",
       "      <td>USA</td>\n",
       "      <td>las vegas</td>\n",
       "      <td>Husayn Salayk</td>\n",
       "      <td>Gaming Console</td>\n",
       "      <td>Sony PlayStation</td>\n",
       "      <td>PlayStation 2</td>\n",
       "      <td>K624</td>\n",
       "      <td>5</td>\n",
       "      <td>99</td>\n",
       "      <td>15.364800</td>\n",
       "      <td>56.657700</td>\n",
       "      <td>True</td>\n",
       "    </tr>\n",
       "    <tr>\n",
       "      <th>19999</th>\n",
       "      <td>2023-09-01</td>\n",
       "      <td>Mon</td>\n",
       "      <td>Saudi Arabia</td>\n",
       "      <td>jeddah</td>\n",
       "      <td>Fatin Bahriin</td>\n",
       "      <td>Headphones</td>\n",
       "      <td>JBL Live</td>\n",
       "      <td>JBL Live 500BT</td>\n",
       "      <td>Y368</td>\n",
       "      <td>4</td>\n",
       "      <td>99</td>\n",
       "      <td>19.958401</td>\n",
       "      <td>68.428802</td>\n",
       "      <td>True</td>\n",
       "    </tr>\n",
       "    <tr>\n",
       "      <th>20000</th>\n",
       "      <td>2023-09-01</td>\n",
       "      <td>Tue</td>\n",
       "      <td>USA</td>\n",
       "      <td>washington</td>\n",
       "      <td>Ahmad Shakur</td>\n",
       "      <td>Smartwatch</td>\n",
       "      <td>Samsung Galaxy</td>\n",
       "      <td>Galaxy Watch Active 2</td>\n",
       "      <td>Y590</td>\n",
       "      <td>4</td>\n",
       "      <td>249</td>\n",
       "      <td>19.521601</td>\n",
       "      <td>180.574799</td>\n",
       "      <td>True</td>\n",
       "    </tr>\n",
       "  </tbody>\n",
       "</table>\n",
       "<p>20000 rows × 14 columns</p>\n",
       "</div>"
      ],
      "text/plain": [
       "         Order Date  Day               Country        City       Full Name  \\\n",
       "Order ID                                                                     \n",
       "1        2023-01-01  Mon                 Syria        homs  Lina Alrrashid   \n",
       "2        2023-01-01  Tue          Saudi Arabia      riyadh      Omar Eurul   \n",
       "3        2023-01-01  Tue          Saudi Arabia      riyadh   Iman Iismaeil   \n",
       "4        2023-01-01  Mon  United Arab Emirates   abu dhabi     Ahmad Rihan   \n",
       "5        2023-01-01  Wed                   USA  washington    Sami Altawil   \n",
       "...             ...  ...                   ...         ...             ...   \n",
       "19996    2023-09-01  Tue               Morocco  casablanca       Ahmad Iad   \n",
       "19997    2023-09-01  Tue                 Syria        homs       Ali Kiali   \n",
       "19998    2023-09-01  Wed                   USA   las vegas   Husayn Salayk   \n",
       "19999    2023-09-01  Mon          Saudi Arabia      jeddah   Fatin Bahriin   \n",
       "20000    2023-09-01  Tue                   USA  washington    Ahmad Shakur   \n",
       "\n",
       "                Category        Sub Category                   Item  \\\n",
       "Order ID                                                              \n",
       "1                 Tablet          Apple iPad         iPad Pro 12.9\"   \n",
       "2             Smartphone      Samsung Galaxy       Galaxy S21 Ultra   \n",
       "3         Digital Camera     Panasonic Lumix    Panasonic Lumix GH5   \n",
       "4                 Tablet  Samsung Galaxy Tab          Galaxy Tab A8   \n",
       "5             Headphones       Sennheiser HD    Sennheiser HD 450BT   \n",
       "...                  ...                 ...                    ...   \n",
       "19996     Gaming Console    Sony PlayStation      PlayStation 4 Pro   \n",
       "19997         Smartwatch          Fossil Gen           Fossil Gen 6   \n",
       "19998     Gaming Console    Sony PlayStation          PlayStation 2   \n",
       "19999         Headphones            JBL Live         JBL Live 500BT   \n",
       "20000         Smartwatch      Samsung Galaxy  Galaxy Watch Active 2   \n",
       "\n",
       "         SalesPerson ID  Quantity  Unit Price    Discount  Total Cost  Status  \n",
       "Order ID                                                                       \n",
       "1                  N498         4         999   38.361599  891.907227   False  \n",
       "2                  X918         3        1199  517.968018  302.148010    True  \n",
       "3                  I036         4        1299  883.320007  831.359985    True  \n",
       "4                  E804         6         199   33.312599  129.548996    True  \n",
       "5                  Q149         4         129   11.261700  111.365700    True  \n",
       "...                 ...       ...         ...         ...         ...     ...  \n",
       "19996              M210         4         399  150.941696  178.033798    True  \n",
       "19997              Z826         3         299  398.268005  215.279999    True  \n",
       "19998              K624         5          99   15.364800   56.657700    True  \n",
       "19999              Y368         4          99   19.958401   68.428802    True  \n",
       "20000              Y590         4         249   19.521601  180.574799    True  \n",
       "\n",
       "[20000 rows x 14 columns]"
      ]
     },
     "execution_count": 24,
     "metadata": {},
     "output_type": "execute_result"
    }
   ],
   "source": [
    "df = pd.read_csv(\n",
    "    \"./data//Orders.csv\",\n",
    "    parse_dates=[\"Order Date\"],\n",
    "    date_format=\"%d/%m/%Y\",\n",
    "    index_col=0,\n",
    "    dtype={\n",
    "        \"Quantity\": 'int8',\n",
    "        \"Unit Price\": 'int16',\n",
    "        'Discount': 'float32',\n",
    "        \"Total Cost\": 'float32'\n",
    "    }\n",
    ")\n",
    "df.drop(columns=['Lat','Lng'], inplace=True)\n",
    "df"
   ]
  },
  {
   "cell_type": "markdown",
   "id": "9972ca64",
   "metadata": {},
   "source": [
    "### Solution 1\n",
    "How many total orders are in the dataset?"
   ]
  },
  {
   "cell_type": "code",
   "execution_count": 35,
   "id": "4e6e8825",
   "metadata": {},
   "outputs": [
    {
     "data": {
      "text/plain": [
       "20000"
      ]
     },
     "execution_count": 35,
     "metadata": {},
     "output_type": "execute_result"
    }
   ],
   "source": [
    "df.shape[0]"
   ]
  },
  {
   "cell_type": "markdown",
   "id": "cb800e2f",
   "metadata": {},
   "source": [
    "### Solution 2\n",
    "What is the average Total Cost of all orders?"
   ]
  },
  {
   "cell_type": "code",
   "execution_count": 4,
   "id": "db09bd42",
   "metadata": {},
   "outputs": [
    {
     "data": {
      "text/plain": [
       "np.float32(565.30804)"
      ]
     },
     "execution_count": 4,
     "metadata": {},
     "output_type": "execute_result"
    }
   ],
   "source": [
    "df['Total Cost'].mean()"
   ]
  },
  {
   "cell_type": "markdown",
   "id": "a474dd33",
   "metadata": {},
   "source": [
    "### Solution 3\n",
    "How many orders were made in each country?"
   ]
  },
  {
   "cell_type": "code",
   "execution_count": 5,
   "id": "23355ebb",
   "metadata": {},
   "outputs": [
    {
     "data": {
      "text/plain": [
       "Country\n",
       "Saudi Arabia            6077\n",
       "USA                     4226\n",
       "United Arab Emirates    2858\n",
       "Syria                   2631\n",
       "Egypt                   2476\n",
       "France                  1125\n",
       "Morocco                  607\n",
       "Name: count, dtype: int64"
      ]
     },
     "execution_count": 5,
     "metadata": {},
     "output_type": "execute_result"
    }
   ],
   "source": [
    "df['Country'].value_counts()"
   ]
  },
  {
   "cell_type": "markdown",
   "id": "2e79e80c",
   "metadata": {},
   "source": [
    "### Solution 4\n",
    "Which item has the highest average Unit Price?"
   ]
  },
  {
   "cell_type": "code",
   "execution_count": null,
   "id": "22c38734",
   "metadata": {},
   "outputs": [
    {
     "data": {
      "text/plain": [
       "Item\n",
       "Canon EOS R5    3999.0\n",
       "Name: Unit Price, dtype: float64"
      ]
     },
     "execution_count": 21,
     "metadata": {},
     "output_type": "execute_result"
    }
   ],
   "source": [
    "mean_df = df.groupby('Item')[\"Unit Price\"].mean()\n",
    "mean_df.loc[mean_df == mean_df.max()]"
   ]
  },
  {
   "cell_type": "markdown",
   "id": "79df6d09",
   "metadata": {},
   "source": [
    "### Solution 5\n",
    "How many orders were made on each day of the week?"
   ]
  },
  {
   "cell_type": "code",
   "execution_count": 7,
   "id": "3bad970c",
   "metadata": {},
   "outputs": [
    {
     "data": {
      "text/plain": [
       "Day\n",
       "Tue    9248\n",
       "Mon    6159\n",
       "Wed    3052\n",
       "Fri     614\n",
       "Sun     316\n",
       "Thu     307\n",
       "Sat     304\n",
       "Name: count, dtype: int64"
      ]
     },
     "execution_count": 7,
     "metadata": {},
     "output_type": "execute_result"
    }
   ],
   "source": [
    "df['Day'].value_counts()"
   ]
  },
  {
   "cell_type": "markdown",
   "id": "521ecab1",
   "metadata": {},
   "source": [
    "### Extra Bonus\n",
    "1- find the top 3 salespersons with the highest total sales (Total Cost)."
   ]
  },
  {
   "cell_type": "code",
   "execution_count": 8,
   "id": "ab234c6a",
   "metadata": {},
   "outputs": [
    {
     "data": {
      "text/plain": [
       "SalesPerson ID\n",
       "R236    121064.820312\n",
       "B938    104158.453125\n",
       "P617    102448.703125\n",
       "Name: Total Cost, dtype: float32"
      ]
     },
     "execution_count": 8,
     "metadata": {},
     "output_type": "execute_result"
    }
   ],
   "source": [
    "df.groupby('SalesPerson ID')['Total Cost'].sum().sort_values(ascending=False)[:3]"
   ]
  },
  {
   "cell_type": "markdown",
   "id": "35e8f7f5",
   "metadata": {},
   "source": [
    "2- Create a simple bar chart of Total Cost by Category."
   ]
  },
  {
   "cell_type": "code",
   "execution_count": 30,
   "id": "66279c56",
   "metadata": {},
   "outputs": [
    {
     "data": {
      "text/plain": [
       "<Axes: title={'center': 'Total Cost By Category'}, xlabel='Category', ylabel='Total Cost (Millions)'>"
      ]
     },
     "execution_count": 30,
     "metadata": {},
     "output_type": "execute_result"
    },
    {
     "data": {
      "image/png": "[encoded data removed]",
      "text/plain": [
       "<Figure size 1000x500 with 1 Axes>"
      ]
     },
     "metadata": {},
     "output_type": "display_data"
    }
   ],
   "source": [
    "df.groupby('Category')['Total Cost'].sum().plot(kind='bar', x=\"Category\", y=\"Total Cost\", ylabel=\"Total Cost (Millions)\", title=\"Total Cost By Category\", figsize=(10, 5))"
   ]
  }
 ],
 "metadata": {
  "kernelspec": {
   "display_name": ".venv",
   "language": "python",
   "name": "python3"
  },
  "language_info": {
   "codemirror_mode": {
    "name": "ipython",
    "version": 3
   },
   "file_extension": ".py",
   "mimetype": "text/x-python",
   "name": "python",
   "nbconvert_exporter": "python",
   "pygments_lexer": "ipython3",
   "version": "3.13.0"
  }
 },
 "nbformat": 4,
 "nbformat_minor": 5
}
